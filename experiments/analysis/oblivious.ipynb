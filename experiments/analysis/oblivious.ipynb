{
 "cells": [
  {
   "cell_type": "code",
   "execution_count": null,
   "id": "intermediate-deficit",
   "metadata": {},
   "outputs": [],
   "source": [
    "#import pandas as pd\n",
    "import numpy as np\n",
    "import plotly.express as px\n",
    "import experiment_helpers\n",
    "\n",
    "#debug\n",
    "from importlib import reload\n",
    "from experiment_helpers import *\n",
    "reload(experiment_helpers)\n",
    "from experiment_helpers import *"
   ]
  },
  {
   "cell_type": "code",
   "execution_count": null,
   "id": "opened-manitoba",
   "metadata": {},
   "outputs": [],
   "source": [
    "EXPERIMENT_TYPES = [\n",
    "    \"no_prefetching\",\n",
    "    \"linux_prefetching\",\n",
    "    #\"linux_prefetching_ssdopt\",\n",
    "    #\"linux_prefetching_ssdopt_asyncwrites\",\"linux_prefetching_ssdopt_asyncwrites\",\n",
    "    #\"tape_prefetching_asyncwrites\",\"tape_prefetching_syncwrites\"\n",
    "]\n",
    "annotations=[]"
   ]
  },
  {
   "cell_type": "code",
   "execution_count": null,
   "id": "greek-checklist",
   "metadata": {},
   "outputs": [],
   "source": [
    "def add_annotation(text):\n",
    "    anno = \"<h3><pre>%s</pre></h3>\" % text\n",
    "    annotations.append(anno)"
   ]
  },
  {
   "cell_type": "markdown",
   "id": "growing-portrait",
   "metadata": {},
   "source": [
    "# Experiment plots"
   ]
  },
  {
   "cell_type": "markdown",
   "id": "functioning-register",
   "metadata": {},
   "source": [
    "## Define experiments"
   ]
  },
  {
   "cell_type": "code",
   "execution_count": null,
   "id": "printable-receiver",
   "metadata": {},
   "outputs": [],
   "source": [
    "WORKLOADS = [\"mmult_eigen\",\"vec_eigen\",\n",
    "             #\"dot_eigen\", \"mmap_random_rw\",\"kissfft\",  \"kmeans\", \"torch\",\n",
    "             \"bitonic_merge\", \"native_sort\",\n",
    "             \"bitonic_sort\", \"torch\", \"torch_par\",\"torch_par4\",\"linpack\", \"mmult_eigen_par\"]\n",
    "#\"alexnet\", \"vgg16\", \"batcher_sort\"]:"
   ]
  },
  {
   "cell_type": "markdown",
   "id": "subject-bruce",
   "metadata": {},
   "source": [
    "## Load data:       data[EXPERIMENT_TYPE][WORKLOAD]"
   ]
  },
  {
   "cell_type": "code",
   "execution_count": null,
   "id": "exposed-intervention",
   "metadata": {},
   "outputs": [],
   "source": [
    "from collections import defaultdict\n",
    "\n",
    "data = defaultdict(dict)\n",
    "for experiment_type in EXPERIMENT_TYPES:\n",
    "    for workload in WORKLOADS:\n",
    "        data[experiment_type][workload] = augment_tables(get_experiment_data([experiment_type], workload,\"../experiment_results_4us\"), filter_raw=True)[0]\n"
   ]
  },
  {
   "cell_type": "markdown",
   "id": "explicit-escape",
   "metadata": {},
   "source": [
    "## Explore & Plot"
   ]
  },
  {
   "cell_type": "code",
   "execution_count": null,
   "id": "purple-jungle",
   "metadata": {},
   "outputs": [],
   "source": [
    "plots = []\n",
    "\n",
    "for experiment_type in EXPERIMENT_TYPES:\n",
    "    named_workloads = list(zip(WORKLOADS, data[experiment_type].values()))\n",
    "    \n",
    "    runtime = take_column_named(\"Measured(wallclock) runtime\",named_workloads).dropna()\n",
    "    fig = px.line(runtime, title='(%s)Absolute(Wallclock) Runtime vs. Local Memory'% experiment_type)\n",
    "    fig.update_layout(\n",
    "        xaxis_title=\"Ratio(%)\",\n",
    "        yaxis_title=\"Measured(wallclock) runtime(s)\",\n",
    "    )\n",
    "    fig.show()\n",
    "    plots.append(fig)\n",
    "    with open('figs/absolute.html', 'w') as f:\n",
    "        f.write(fig.to_html(full_html=False, include_plotlyjs='plotly-latest.min.js'))\n",
    "    \n",
    "    \n",
    "    degradations = take_column_named(\"Degradation\",named_workloads).dropna() * 100\n",
    "    fig = px.line(degradations, title='(%s)Normalized Runtime(Wallclock) vs. Local Memory' % experiment_type)\n",
    "    fig.update_layout(\n",
    "        xaxis_title=\"Ratio(%)\",\n",
    "        yaxis_title=\"Degradation(%)\",\n",
    "    )\n",
    "    fig.show()\n",
    "    plots.append(fig)\n",
    "    with open('figs/degr.html', 'w') as f:\n",
    "        f.write(fig.to_html(full_html=False, include_plotlyjs='plotly-latest.min.js'))\n",
    "\n",
    "    degradations_no_ev = take_column_named(\"Degradation w/o Evictions\",named_workloads).dropna() * 100\n",
    "    fig = px.line(degradations_no_ev, title='(%s)Normalized Runtime vs. Local Memory (SUBTRACT time spent in evictions)' % experiment_type)\n",
    "    fig.update_layout(\n",
    "        xaxis_title=\"Ratio(%)\",\n",
    "        yaxis_title=\"Degradation(%)\",\n",
    "    )\n",
    "    fig.show()\n",
    "    plots.append(fig)\n",
    "    \n",
    "    with open('figs/degr_noev.html', 'w') as f:\n",
    "        f.write(fig.to_html(full_html=False, include_plotlyjs='plotly-latest.min.js'))"
   ]
  },
  {
   "cell_type": "code",
   "execution_count": null,
   "id": "rational-couple",
   "metadata": {},
   "outputs": [],
   "source": [
    "runtime_components = []\n",
    "\n",
    "for workload in WORKLOADS:\n",
    "    for exp_type in EXPERIMENT_TYPES:\n",
    "        fig = get_components_of_runtime(data[exp_type][workload], \"%s,%s\" % (exp_type, workload))\n",
    "        runtime_components.append(fig)\n",
    "    #    fig.update_layout(yaxis_range=[0,15])\n",
    "        with open('figs/comp_%s_%s.html' % (exp_type, workload), 'w') as f:\n",
    "            f.write(fig.to_html(full_html=False, include_plotlyjs='plotly-latest.min.js'))\n",
    "\n",
    "        fig.show()"
   ]
  },
  {
   "cell_type": "code",
   "execution_count": null,
   "id": "classified-spider",
   "metadata": {},
   "outputs": [],
   "source": [
    "(exp_type, workload) = \"linux_prefetching\", \"torch_par\"\n",
    "get_components_of_runtime(data[exp_type][workload], \"%s,%s, +4us rdma delay\" % (exp_type, workload))"
   ]
  },
  {
   "cell_type": "code",
   "execution_count": null,
   "id": "three-omaha",
   "metadata": {},
   "outputs": [],
   "source": [
    "data['linux_prefetching']['bitonic_sort']['Minor Page Faults']/ \\\n",
    "data['linux_prefetching']['bitonic_sort']['Major Page Faults']"
   ]
  },
  {
   "cell_type": "code",
   "execution_count": null,
   "id": "accepted-exercise",
   "metadata": {},
   "outputs": [],
   "source": [
    "for exp_name in [\"tape_prefetching_syncwrites\", \"tape_prefetching_asyncwrites\"]:\n",
    "    fig = get_components_of_runtime(get_experiment_table(named_dfs,exp_name))\n",
    "\n",
    "    runtime_components.append(fig)\n",
    "    fig.update_layout(yaxis_range=[0,15])\n",
    "    fig.show()\n"
   ]
  },
  {
   "cell_type": "code",
   "execution_count": null,
   "id": "realistic-desert",
   "metadata": {},
   "outputs": [],
   "source": [
    "def spill_html():\n",
    "    with open('linux_delay_8.html', 'w') as f:\n",
    "        i = 0\n",
    "        for figures in [plots,runtime_components]:\n",
    "            for figure in figures:\n",
    "                #anno = annotations[i]\n",
    "                #i+=1\n",
    "                f.write(figure.to_html(full_html=False, include_plotlyjs='cdn'))\n",
    "                #f.write(anno)\n",
    "                f.write(\"<hr/>\")"
   ]
  }
 ],
 "metadata": {
  "kernelspec": {
   "display_name": "Python 3",
   "language": "python",
   "name": "python3"
  },
  "language_info": {
   "codemirror_mode": {
    "name": "ipython",
    "version": 3
   },
   "file_extension": ".py",
   "mimetype": "text/x-python",
   "name": "python",
   "nbconvert_exporter": "python",
   "pygments_lexer": "ipython3",
   "version": "3.8.5"
  }
 },
 "nbformat": 4,
 "nbformat_minor": 5
}
