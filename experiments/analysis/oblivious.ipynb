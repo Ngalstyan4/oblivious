{
 "cells": [
  {
   "cell_type": "code",
   "execution_count": null,
   "id": "intermediate-deficit",
   "metadata": {},
   "outputs": [],
   "source": [
    "#import pandas as pd\n",
    "import numpy as np\n",
    "import plotly.express as px\n",
    "import experiment_helpers\n",
    "\n",
    "from importlib import reload\n",
    "\n",
    "from experiment_helpers import *\n",
    "reload(experiment_helpers)"
   ]
  },
  {
   "cell_type": "code",
   "execution_count": null,
   "id": "opened-manitoba",
   "metadata": {},
   "outputs": [],
   "source": [
    "EXPERIMENT_TYPES = [\n",
    "    \"no_prefetching\",\n",
    "    \"linux_prefetching\",\n",
    "    #\"linux_prefetching_ssdopt\",\n",
    "    #\"linux_prefetching_ssdopt_asyncwrites\",\"linux_prefetching_ssdopt_asyncwrites\",\n",
    "    #\"tape_prefetching_asyncwrites\",\"tape_prefetching_syncwrites\"\n",
    "]\n",
    "annotations=[]"
   ]
  },
  {
   "cell_type": "code",
   "execution_count": null,
   "id": "greek-checklist",
   "metadata": {},
   "outputs": [],
   "source": [
    "def add_annotation(text):\n",
    "    anno = \"<h3><pre>%s</pre></h3>\" % text\n",
    "    annotations.append(anno)"
   ]
  },
  {
   "cell_type": "code",
   "execution_count": null,
   "id": "reasonable-fifty",
   "metadata": {},
   "outputs": [],
   "source": [
    "#linux_prefetching=get_experiment_table(experiment_results, \"no_prefetching\")\n",
    "#linux_prefetching[\"additional usertime per eviction(us)\"] /linux_prefetching[\"Evictions\"]"
   ]
  },
  {
   "cell_type": "markdown",
   "id": "growing-portrait",
   "metadata": {},
   "source": [
    "# Experiment plots"
   ]
  },
  {
   "cell_type": "code",
   "execution_count": null,
   "id": "another-surprise",
   "metadata": {},
   "outputs": [],
   "source": [
    "EXPERIMENT_TYPES = [\"no_prefetching\", \"linux_prefetching\"]\n",
    "experiment_results = augment_tables(get_experiment_data(EXPERIMENT_TYPES, \"sort_again\",\"../experiment_results\"), True)\n",
    "named_dfs = list(zip(EXPERIMENT_TYPES, experiment_results))"
   ]
  },
  {
   "cell_type": "code",
   "execution_count": null,
   "id": "precious-finish",
   "metadata": {},
   "outputs": [],
   "source": [
    "evictions = take_column_from_dfs(\"Evictions\",named_dfs).dropna()\n",
    "fig = px.line(evictions, title='aboslte evictions')\n",
    "fig.update_layout(\n",
    "    xaxis_title=\"Ratio(%)\",\n",
    "    yaxis_title=\"#pages\",\n",
    ")\n",
    "fig.show()"
   ]
  },
  {
   "cell_type": "code",
   "execution_count": null,
   "id": "incorrect-passport",
   "metadata": {},
   "outputs": [],
   "source": [
    "plots = []\n",
    "\n",
    "\n",
    "degradations = take_column_from_dfs(\"Degradation\",named_dfs).dropna() * 100\n",
    "degradations_no_ev = take_column_from_dfs(\"Degradation w/o Evictions\",named_dfs).dropna() * 100\n",
    "runtime = take_column_from_dfs(\"Measured(wallclock) runtime\",named_dfs).dropna()\n",
    "\n",
    "\n",
    "fig = px.line(runtime, title='Absolute(Wallclock) Runtime vs. Local Memory')\n",
    "fig.update_layout(\n",
    "    xaxis_title=\"Ratio(%)\",\n",
    "    yaxis_title=\"Measured(wallclock) runtime(s)\",\n",
    ")\n",
    "\n",
    "anno = \"\"\"\n",
    "Things to note above: \n",
    "    1) simply skipping an ssd-specific code path in the kernel when allocating\n",
    "        swap entries significantly improves eviction performance (top vs middle 2 lines)\n",
    "    2)on top of that, adding tape prefetching (lowest 2 lines) further improves end to end performance\n",
    "\"\"\"\n",
    "add_annotation(text=anno)\n",
    "fig.show()\n",
    "plots.append(fig)\n",
    "\n",
    "fig = px.line(degradations, title='Normalized Runtime vs. Local Memory')\n",
    "fig.update_layout(\n",
    "    xaxis_title=\"Ratio(%)\",\n",
    "    yaxis_title=\"Degradation(%)\",\n",
    ")\n",
    "\n",
    "anno = \"\"\"\n",
    "Things to note above: \n",
    "    1) performance differences among different fastswap configurations are not visible here since we are comparing\n",
    "       performance of each system under limited memory to the performance of THE SAME system under 100%\n",
    "    2) Even in case of good tape prefetching performance degrades (due to evictions!) see next plot\n",
    "       \n",
    "\"\"\"\n",
    "add_annotation(text=anno)\n",
    "fig.show()\n",
    "plots.append(fig)\n",
    "\n",
    "fig = px.line(degradations_no_ev, title='Normalized Runtime vs. Local Memory (SUBTRACT time spent in evictions)')\n",
    "fig.update_layout(\n",
    "    xaxis_title=\"Ratio(%)\",\n",
    "    yaxis_title=\"Degradation(%)\",\n",
    ")\n",
    "anno = \"\"\"\n",
    "Things to note above: \n",
    "    1) If we subtract the time spent on handling eviction on application CPU from previous set of grapshs, we see\n",
    "       that tape prefetching is a lot less dependent on local memory ratio, even when it is extremely small\n",
    "    2) the remaining overhead of tape prefetching (about x2 degradation) is a result of inefficent code, can be optimized\n",
    "       but as the contrast shows, optimizing evictions would give us a lot more\n",
    "       \n",
    "\"\"\"\n",
    "add_annotation(text=anno)\n",
    "fig.show()\n",
    "plots.append(fig)"
   ]
  },
  {
   "cell_type": "code",
   "execution_count": null,
   "id": "entitled-section",
   "metadata": {},
   "outputs": [],
   "source": [
    "runtime_components = []\n",
    "anno = \"\"\"\n",
    "Things to note above: \n",
    "    \n",
    "    1) When looking at different components of what comprises end to end application runtime, we see again that\n",
    "      evictions is where most time is spent\n",
    "    2) (DISABLE evictions plot to see the result) when not considering evictions, we see that in the plot most time is\n",
    "       spent on major page faults\n",
    "       \n",
    "\"\"\"\n",
    "add_annotation(text=anno)\n",
    "\n",
    "anno = \"\"\"\n",
    "Things to note above: \n",
    "    \n",
    "    1) Unlike the previous case of linux prefetching, when we use tape to prefetch, we essentially eliminate time spent\n",
    "       on major page faults\n",
    "    2) we do not do any mapping to page tables hence the increase minor faults but this can be fixed for a SMALL runtime\n",
    "       gain (w.r.t. more efficient evictions)\n",
    "       \n",
    "\"\"\"\n",
    "add_annotation(text=anno)\n",
    "\n",
    "#\"tape_prefetching_syncwrites\", \"tape_prefetching_asyncwrites\"\n",
    "for exp_name in [\"no_prefetching\", \"linux_prefetching\"]:\n",
    "    fig = get_components_of_runtime(get_experiment_table(named_dfs,exp_name))\n",
    "    runtime_components.append(fig)\n",
    "#    fig.update_layout(yaxis_range=[0,15])\n",
    "\n",
    "    fig.show()"
   ]
  },
  {
   "cell_type": "code",
   "execution_count": null,
   "id": "monthly-biography",
   "metadata": {},
   "outputs": [],
   "source": [
    "for exp_name in [\"tape_prefetching_syncwrites\", \"tape_prefetching_asyncwrites\"]:\n",
    "    fig = get_components_of_runtime(get_experiment_table(named_dfs,exp_name))\n",
    "    add_annotation(text=\"tape sync writes anno\")\n",
    "    add_annotation(text=\"tape async writes anno\")\n",
    "\n",
    "    runtime_components.append(fig)\n",
    "    fig.update_layout(yaxis_range=[0,15])\n",
    "    fig.show()\n"
   ]
  },
  {
   "cell_type": "code",
   "execution_count": null,
   "id": "historic-elizabeth",
   "metadata": {},
   "outputs": [],
   "source": [
    "def spill_html():\n",
    "    with open('python_oblivious.html', 'w') as f:\n",
    "        i = 0\n",
    "        for figure in plots:\n",
    "            anno = annotations[i]\n",
    "            i+=1\n",
    "\n",
    "            f.write(figure.to_html(full_html=False, include_plotlyjs='cdn'))\n",
    "            f.write(anno)\n",
    "            f.write(\"<hr/>\")\n",
    "\n",
    "        for figure in runtime_components:\n",
    "            anno = annotations[i]\n",
    "            i+=1\n",
    "            f.write(figure.to_html(full_html=False, include_plotlyjs='cdn'))\n",
    "            f.write(anno)\n",
    "            f.write(\"<hr/>\")"
   ]
  }
 ],
 "metadata": {
  "kernelspec": {
   "display_name": "Python 3",
   "language": "python",
   "name": "python3"
  },
  "language_info": {
   "codemirror_mode": {
    "name": "ipython",
    "version": 3
   },
   "file_extension": ".py",
   "mimetype": "text/x-python",
   "name": "python",
   "nbconvert_exporter": "python",
   "pygments_lexer": "ipython3",
   "version": "3.8.5"
  }
 },
 "nbformat": 4,
 "nbformat_minor": 5
}
